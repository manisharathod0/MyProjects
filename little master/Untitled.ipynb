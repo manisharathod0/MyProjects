{
 "cells": [
  {
   "cell_type": "code",
   "execution_count": 8,
   "id": "cdfc0e7b-a67c-4675-933b-4c9e4ece7976",
   "metadata": {},
   "outputs": [],
   "source": [
    "import pandas as pd\n",
    "import math\n",
    "import numpy as np\n",
    "\n",
    "data = pd.read_csv(\"C:/Users/Mansi Odedra/Downloads/3-dataset.csv\")\n",
    "features = [feat for feat in data]\n",
    "features.remove(\"answer\")"
   ]
  },
  {
   "cell_type": "code",
   "execution_count": 9,
   "id": "e148139f-ac9e-4edb-b436-f82716229110",
   "metadata": {},
   "outputs": [],
   "source": [
    "class Node:\n",
    "    def __init__(self):\n",
    "        self.children = []\n",
    "        self.value = \"\"\n",
    "        self.isLeaf = False\n",
    "        self.pred = \"\""
   ]
  },
  {
   "cell_type": "code",
   "execution_count": null,
   "id": "a2d010bb-f168-4967-8e9a-8259659d2f05",
   "metadata": {},
   "outputs": [],
   "source": []
  }
 ],
 "metadata": {
  "kernelspec": {
   "display_name": "Python 3 (ipykernel)",
   "language": "python",
   "name": "python3"
  },
  "language_info": {
   "codemirror_mode": {
    "name": "ipython",
    "version": 3
   },
   "file_extension": ".py",
   "mimetype": "text/x-python",
   "name": "python",
   "nbconvert_exporter": "python",
   "pygments_lexer": "ipython3",
   "version": "3.11.4"
  }
 },
 "nbformat": 4,
 "nbformat_minor": 5
}
